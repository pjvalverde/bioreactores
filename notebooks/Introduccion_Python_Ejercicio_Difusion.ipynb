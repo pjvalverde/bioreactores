{
  "cells": [
    {
      "cell_type": "markdown",
      "metadata": {
        "id": "Y0NhxUz1-EZS"
      },
      "source": [
        "# Mini Tutorial de Python"
      ]
    },
    {
      "cell_type": "markdown",
      "metadata": {
        "id": "iFPOX1VU-AyG"
      },
      "source": [
        "## 1. Operaciones Basicas:\n",
        "Sumar y multiplicar dos numeros"
      ]
    },
    {
      "cell_type": "code",
      "execution_count": 1,
      "metadata": {
        "colab": {
          "base_uri": "https://localhost:8080/"
        },
        "id": "D9blH1Ng-IE0",
        "outputId": "fd7b7619-84e0-428b-8a45-4b21346521b0"
      },
      "outputs": [
        {
          "name": "stdout",
          "output_type": "stream",
          "text": [
            "Suma: 8\n",
            "Producto: 15\n"
          ]
        }
      ],
      "source": [
        "# Definir variables\n",
        "a = 5\n",
        "b = 3\n",
        "\n",
        "# Suma\n",
        "suma = a + b\n",
        "\n",
        "# Multiplicación\n",
        "producto = a * b\n",
        "\n",
        "print(\"Suma:\", suma)\n",
        "print(\"Producto:\", producto)\n"
      ]
    },
    {
      "cell_type": "markdown",
      "metadata": {
        "id": "4sTFKh0i-Xwd"
      },
      "source": [
        "## 2. Conversión de Unidades\n",
        "Ejemplo: Convertir centímetros a metros."
      ]
    },
    {
      "cell_type": "code",
      "execution_count": 2,
      "metadata": {
        "colab": {
          "base_uri": "https://localhost:8080/"
        },
        "id": "reb1gHzh-gQ2",
        "outputId": "6e899901-36aa-41d6-c934-1b17b56d932b"
      },
      "outputs": [
        {
          "name": "stdout",
          "output_type": "stream",
          "text": [
            "Longitud en metros: 1.5\n"
          ]
        }
      ],
      "source": [
        "# Longitud en centímetros\n",
        "long_cm = 150\n",
        "\n",
        "# Conversión a metros (1 metro = 100 cm)\n",
        "long_m = long_cm / 100\n",
        "\n",
        "print(\"Longitud en metros:\", long_m)\n"
      ]
    },
    {
      "cell_type": "markdown",
      "metadata": {
        "id": "zTF4p_3O-1vu"
      },
      "source": [
        "## 3. Uso de Funciones Matemáticas\n",
        "Para funciones como logaritmo, potencia o valor absoluto se usa el módulo math."
      ]
    },
    {
      "cell_type": "code",
      "execution_count": 3,
      "metadata": {
        "colab": {
          "base_uri": "https://localhost:8080/"
        },
        "id": "dwU1Mz6A-8sx",
        "outputId": "f26668aa-64af-4441-a6bd-330019ff09a8"
      },
      "outputs": [
        {
          "name": "stdout",
          "output_type": "stream",
          "text": [
            "Logaritmo de x: -0.6931471805599453\n",
            "Potencia de y: 16.0\n"
          ]
        }
      ],
      "source": [
        "import math\n",
        "\n",
        "# Logaritmo natural de un número\n",
        "x = 0.5\n",
        "log_x = math.log(x)\n",
        "\n",
        "# Potencia\n",
        "y = 4\n",
        "potencia = math.pow(y, 2)  # y^2\n",
        "\n",
        "print(\"Logaritmo de x:\", log_x)\n",
        "print(\"Potencia de y:\", potencia)\n"
      ]
    },
    {
      "cell_type": "markdown",
      "metadata": {
        "id": "4ozZQAbt_Ame"
      },
      "source": [
        "## 4. Lectura de Datos desde el Teclado\n",
        "Se puede pedir al usuario que ingrese los datos, por ejemplo:"
      ]
    },
    {
      "cell_type": "code",
      "execution_count": 4,
      "metadata": {
        "colab": {
          "base_uri": "https://localhost:8080/"
        },
        "id": "bB-fMZ2X_QJk",
        "outputId": "f3251b11-0051-41a8-90df-955a4190592d"
      },
      "outputs": [
        {
          "name": "stdout",
          "output_type": "stream",
          "text": [
            "Introduce el primer número: 21\n",
            "Introduce el segundo número: 45\n",
            "El producto es: 945.0\n"
          ]
        }
      ],
      "source": [
        "a = float(input(\"Introduce el primer número: \"))\n",
        "b = float(input(\"Introduce el segundo número: \"))\n",
        "print(\"El producto es:\", a * b)\n"
      ]
    },
    {
      "cell_type": "markdown",
      "metadata": {
        "id": "D2kUgEgH_YBI"
      },
      "source": [
        "## 5. Organizar el Código en Pasos\n",
        "Cada parte del problema se ve como una sección del código. Por ejemplo, para un cálculo de velocidad:"
      ]
    },
    {
      "cell_type": "code",
      "execution_count": null,
      "metadata": {
        "id": "2mgRTeO7_d2_"
      },
      "outputs": [],
      "source": [
        "# Paso 1: Definir los datos\n",
        "distancia = 100  # metros\n",
        "tiempo = 9.58    # segundos\n",
        "\n",
        "# Paso 2: Calcular la velocidad\n",
        "velocidad = distancia / tiempo\n",
        "\n",
        "# Paso 3: Mostrar el resultado\n",
        "print(\"La velocidad promedio es:\", velocidad, \"m/s\")\n"
      ]
    },
    {
      "cell_type": "markdown",
      "metadata": {
        "id": "cPbXOb_6_1s2"
      },
      "source": [
        "## 6. Uso de Comentarios\n",
        "El símbolo ''#'' es para agregar notas y recordar qué hace cada parte. (Muy recomendado para que el mismo programador recuerde que se hizo en cada seccion de codigo)\n",
        "\n",
        "\n"
      ]
    },
    {
      "cell_type": "code",
      "execution_count": 5,
      "metadata": {
        "colab": {
          "base_uri": "https://localhost:8080/"
        },
        "id": "A4HPtUcNAOB1",
        "outputId": "ef1827de-3c3b-4ec5-b2f3-32d790cff86b"
      },
      "outputs": [
        {
          "name": "stdout",
          "output_type": "stream",
          "text": [
            "Área: 12.566370614359172\n"
          ]
        }
      ],
      "source": [
        "# Calcular el área de un círculo\n",
        "radio = 2\n",
        "area = math.pi * radio**2  # pi * r^2\n",
        "print(\"Área:\", area)\n"
      ]
    },
    {
      "cell_type": "markdown",
      "metadata": {
        "id": "3-dO_Nh7ARcK"
      },
      "source": [
        "## 7. Ejemplo: Programa Completo Sencillo"
      ]
    },
    {
      "cell_type": "code",
      "execution_count": 6,
      "metadata": {
        "colab": {
          "base_uri": "https://localhost:8080/"
        },
        "id": "MGeIIvsLAkZF",
        "outputId": "5854b072-48ea-4f6d-c235-d884d8d2d1fc"
      },
      "outputs": [
        {
          "name": "stdout",
          "output_type": "stream",
          "text": [
            "Área del cuadrado: 25\n",
            "Diagonal del cuadrado: 7.0710678118654755\n"
          ]
        }
      ],
      "source": [
        "import math\n",
        "\n",
        "# Paso 1: Datos de entrada\n",
        "lado = 5  # longitud de un lado de un cuadrado\n",
        "\n",
        "# Paso 2: Calcular el área (A = lado^2)\n",
        "area = lado ** 2\n",
        "\n",
        "# Paso 3: Calcular la diagonal (d = lado * sqrt(2))\n",
        "diagonal = lado * math.sqrt(2)\n",
        "\n",
        "# Paso 4: Mostrar los resultados\n",
        "print(\"Área del cuadrado:\", area)\n",
        "print(\"Diagonal del cuadrado:\", diagonal)\n"
      ]
    },
    {
      "cell_type": "markdown",
      "metadata": {
        "id": "S1s9H52ZAqio"
      },
      "source": [
        "## 8. Construir funciones en Python:\n",
        "```python\n",
        "# Definir una función que multiplica dos números\n",
        "def multiplicar(a, b):\n",
        "    resultado = a * b\n",
        "    return resultado\n",
        "```"
      ]
    },
    {
      "cell_type": "code",
      "execution_count": 7,
      "metadata": {
        "colab": {
          "base_uri": "https://localhost:8080/"
        },
        "id": "HiALXL9fBKqO",
        "outputId": "95fa1b22-161e-4b48-ed71-a01ce6552626"
      },
      "outputs": [
        {
          "name": "stdout",
          "output_type": "stream",
          "text": [
            "El producto es: 28\n"
          ]
        }
      ],
      "source": [
        "# Definir una función que multiplica dos números\n",
        "def multiplicar(a, b):\n",
        "    resultado = a * b\n",
        "    return resultado\n",
        "\n",
        "# Usar la función\n",
        "x = 4\n",
        "y = 7\n",
        "producto = multiplicar(x, y)\n",
        "\n",
        "print(\"El producto es:\", producto)\n"
      ]
    },
    {
      "cell_type": "markdown",
      "metadata": {
        "id": "AzamUKjwBPuP"
      },
      "source": [
        "### Reto 1: Construya la funcion que calcule el area de un circulo (necesitas el radio como dato)\n",
        "```python\n",
        "import math\n",
        "def area_circulo(r):\n",
        "  area = ---.pi*r---\n",
        "  return ----\n",
        "\n",
        "#Comprobacion:\n",
        "# Usar la función\n",
        "r = 3\n",
        "print(\"El área del círculo es:\", -------(r))  \n",
        "```"
      ]
    },
    {
      "cell_type": "markdown",
      "metadata": {
        "id": "NT__Yr47D8NA"
      },
      "source": [
        "# 🧪 Reto Python: Difusión de Etanol (Ejercicio de McCabe) 🚀\n",
        "\n",
        "Este reto consiste en el **cálculo del caudal de difusión de etanol** a través de una película gaseosa usando Python. El objetivo es construir tu propia función y experimentar con los resultados. Utiliza comentarios y tu razonamiento para resolver\n",
        "\n",
        "---\n",
        "\n",
        "## 📌 Enunciado Resumido\n",
        "\n",
        "Se absorbe etanol desde una mezcla vapor alcohol–agua a 97 °C y 1 atm, a través de una película gaseosa de 0,10 mm de espesor.  \n",
        "Fracción molar de etanol fuera de la película: **0,80**  \n",
        "Fracción molar junto al solvente: **0,10**  \n",
        "Área de la película: **10 m²**  \n",
        "Difusividad ajustada a 97 °C: **2,19×10⁻⁵ m²/s**  \n",
        "Masa molar etanol: **46,07 g/mol**  \n",
        "Presión: **101325 Pa**  \n",
        "Temperatura: **370 K**  \n",
        "Espesor: **1,0×10⁻⁴ m**\n"
      ]
    },
    {
      "cell_type": "markdown",
      "metadata": {
        "id": "7mSOBIDuEVV_"
      },
      "source": [
        "---\n",
        "\n",
        "## 1️⃣ **Importa librerías necesarias**\n",
        "\n",
        "Completa y ejecuta la celda:\n",
        "\n",
        "```python\n",
        "# Importa la librería math para logaritmos, potencias, etc.\n",
        "import ----\n",
        "```"
      ]
    },
    {
      "cell_type": "code",
      "execution_count": null,
      "metadata": {
        "id": "3UI7AscmFVhp"
      },
      "outputs": [],
      "source": []
    },
    {
      "cell_type": "markdown",
      "metadata": {
        "id": "w7QcvF6NEa-R"
      },
      "source": [
        "## 2️⃣ Escribe una función para calcular la densidad molar de un gas\n",
        "La fórmula es:\n",
        "$$\n",
        "\\rho_M = \\frac{P}{R \\cdot T}\n",
        "$$\n",
        "\n",
        "\n",
        "```python\n",
        "def densidad_molar(P, T):\n",
        "    R = ----  # Constante de gas en J/mol·K\n",
        "    rho_M = ----\n",
        "    return rho_M\n",
        "\n",
        "# Prueba la función con los datos del problema\n",
        "P = 101325      # Pa\n",
        "T = 370         # K\n",
        "print(\"Densidad molar:\", densidad_molar(P, T), \"mol/m³\")\n",
        "```"
      ]
    },
    {
      "cell_type": "code",
      "execution_count": null,
      "metadata": {
        "id": "AcQ0C5kvDBM1"
      },
      "outputs": [],
      "source": []
    },
    {
      "cell_type": "markdown",
      "metadata": {
        "id": "0wOPFI3fFf8c"
      },
      "source": [
        "## 3️⃣ Define la función principal para el cálculo de difusión\n",
        "Completa la función con la ecuación integrada de Fick.\n",
        "$$\n",
        "N_A = -\\frac{D_{AB} \\, \\rho_M}{\\delta} \\, \\ln\\left( \\frac{1 - y_A}{1 - y_{A,i}} \\right)\n",
        "$$\n",
        "y con el caudal másico:\n",
        "$$\n",
        "\\dot{m}_A = N_A \\cdot A \\cdot MW \\cdot \\frac{3600}{1000}\n",
        "$$\n",
        "\n",
        "donde:\n",
        "- $N_A$: flujo molar de A $(\\text{mol}/\\text{m}^2\\cdot\\text{s})$\n",
        "- $A$: área $(\\text{m}^2)$\n",
        "- $MW$: masa molar $(\\text{g}/\\text{mol})$\n",
        "- $3600$: segundos a horas\n",
        "- $1000$: gramos a kilogramos\n",
        "```python\n",
        "def difusion_etanol(D, delta, yA_granel, yA_interfaz, A, MW, rho_M):\n",
        "    # Calcula el flujo molar usando la ecuación de Fick\n",
        "    NA = ----\n",
        "    # Calcula el caudal másico en kg/h\n",
        "    m_dot = ----\n",
        "    return NA, m_dot\n",
        "```"
      ]
    },
    {
      "cell_type": "code",
      "execution_count": null,
      "metadata": {
        "id": "DWdvUcDdFn-Q"
      },
      "outputs": [],
      "source": []
    },
    {
      "cell_type": "markdown",
      "metadata": {
        "id": "_Wao6ScTFumP"
      },
      "source": [
        "## 4️⃣ Reunir todos los datos y probar tu función\n",
        "Completar los valores de entrada y llama a tu función.\n",
        "\n",
        "```python\n",
        "# Datos del problema\n",
        "D = ----\n",
        "delta = ----\n",
        "yA_granel = ----\n",
        "yA_interfaz = ----\n",
        "A = ----\n",
        "MW = ----\n",
        "\n",
        "# Calcula densidad molar\n",
        "rho_M = densidad_molar(P, T)\n",
        "\n",
        "# Llama a tu función principal\n",
        "NA, m_dot = difusion_etanol(D, delta, yA_granel, yA_interfaz, A, MW, rho_M)\n",
        "\n",
        "# Muestra los resultados\n",
        "print(\"Flujo molar NA =\", NA, \"mol/(m²·s)\")\n",
        "```"
      ]
    },
    {
      "cell_type": "code",
      "execution_count": null,
      "metadata": {
        "id": "D_F6XjQRGAjw"
      },
      "outputs": [],
      "source": []
    },
    {
      "cell_type": "markdown",
      "metadata": {
        "id": "BHYYRN5ZICe6"
      },
      "source": [
        "## # 🧩 Ejercicio extra: Promedio logarítmico y comparación de resultados\n",
        "\n",
        "En ciertos problemas de transferencia de masa, se utiliza el **promedio logarítmico** para aproximar diferencias de concentración o fracción molar a lo largo de una película. Esto es útil cuando el gradiente no es lineal.\n",
        "\n",
        "La **media logarítmica** entre dos valores $a$ y $b$, con $a \\neq b$ es:\n",
        "\n",
        "\n",
        "\n",
        "$$\n",
        "\\Delta y_{ab,\\,\\mathrm{lm}} = \\frac{a - b}{\\ln\\left(\\frac{a}{b}\\right)}\n",
        "$$\n",
        "\n",
        "---\n",
        "\n",
        "## 1️⃣ Escribe una función para el promedio logarítmico\n",
        "\n",
        "```python\n",
        "def promedio_logaritmico(a, b):\n",
        "    if a == b:\n",
        "        return a  # Si son iguales, retorna ese valor (evita división por cero)\n",
        "    return (a - b) / math.log(a / b)\n",
        "\n",
        "# Prueba la función\n",
        "print(\"Promedio logarítmico entre 0.8 y 0.1:\", promedio_logaritmico(0.8, 0.1))\n"
      ]
    },
    {
      "cell_type": "code",
      "execution_count": null,
      "metadata": {
        "id": "c5n5xoGQILhY"
      },
      "outputs": [],
      "source": []
    },
    {
      "cell_type": "markdown",
      "metadata": {
        "id": "WwrQRLnXJTE1"
      },
      "source": [
        "##  2️⃣ Calcula el flujo de difusión usando el promedio logarítmico\n",
        "\n",
        "Ahora como vimos en clase, en vez de usar el logaritmo natural de las fracciones molares, usas el **promedio logarítmico de la diferencia** y la ecuación de Fick simplificada:\n",
        "\n",
        "$$\n",
        "N_A = -\\frac{D_{AB} \\, \\rho_M}{\\delta} \\cdot \\Delta y_{A,\\,\\mathrm{lm}}\n",
        "$$\n",
        "\n",
        "Completa la función y compárala con la respuesta original:\n",
        "\n",
        "```python\n",
        "def difusion_promedio_log(D, rho_M, delta, yA_granel, yA_interfaz):\n",
        "    delta_y_lm = promedio_logaritmico(-------)\n",
        "    NA = - (-------) * delta_y_lm\n",
        "    return NA\n",
        "```"
      ]
    },
    {
      "cell_type": "code",
      "execution_count": null,
      "metadata": {
        "id": "1mXwvqQRJ2SS"
      },
      "outputs": [],
      "source": []
    },
    {
      "cell_type": "markdown",
      "metadata": {
        "id": "wcKrFY6SJ295"
      },
      "source": [
        "## 3️⃣ Compara ambas respuestas\n",
        "```python\n",
        "# Datos del problema\n",
        "D = 2.19e-5\n",
        "rho_M = densidad_molar(P, T)\n",
        "delta = 1e-4\n",
        "yA_granel = 0.80\n",
        "yA_interfaz = 0.10\n",
        "\n",
        "# Flujo con método original (logaritmo)\n",
        "NA_fick = - (D * rho_M / delta) * math.log((1 - yA_granel) / (1 - yA_interfaz))\n",
        "\n",
        "# Flujo con promedio logarítmico\n",
        "NA_logmean = difusion_promedio_log(D, rho_M, delta, yA_granel, yA_interfaz)\n",
        "\n",
        "print(\"Flujo (ley de Fick original):\", NA_fick, \"mol/(m2·s)\")\n",
        "print(\"Flujo (promedio logarítmico):\", NA_logmean, \"mol/(m2·s)\")\n",
        "```"
      ]
    },
    {
      "cell_type": "code",
      "execution_count": null,
      "metadata": {
        "id": "4YdfucFjKeWw"
      },
      "outputs": [],
      "source": []
    },
    {
      "cell_type": "markdown",
      "metadata": {},
      "source": [
        "## 🏠 Actividad para Casa: **Ejercicio 17.4 de McCabe**\n",
        "\n",
        "### **Enunciado original:**\n",
        "\n",
        "> **17.4.** Una mezcla, en fase de vapor, de alcohol y agua se rectifica mediante contacto con una disolución líquida de alcohol-agua. El alcohol se transfiere del gas al líquido y el agua del líquido al gas. Las velocidades de flujo molares de alcohol y agua son iguales y de sentido contrario.\n",
        "La temperatura es **95 °C** y la presión **1 atm**. Ambos componentes se difunden a través de una película de gas de **0.1 mm** de espesor. El porcentaje molar de alcohol en el exterior de la película es de **80%**, y en el interior de la misma es de **10%**. Calcule las **velocidades de difusión del alcohol y del agua**, en **libras por hora**, a través de una película de área igual a **10 m²**.\n",
        "\n",
        "---\n",
        "\n",
        "### **Instrucciones:**\n",
        "\n",
        "1. **Analiza el problema:**\n",
        "   - Identifica los datos y conviértelos a unidades SI y luego a libras por hora según se requiera.\n",
        "   - Es realtivo al tema de **difusión equimolar** (los flujos molares son iguales y opuestos).\n",
        "\n",
        "2. **Desarrolla el código Python:**\n",
        "   - Define funciones que te permitan calcular las velocidades de difusión de ambos componentes.\n",
        "   - Puedes usar la estructura y lógica de los ejercicios y codigo anteriores (ley de Fick para difusión equimolar).\n",
        "\n",
        "3. **Comenta tu código:**\n",
        "   - Explica brevemente cada parte del proceso y los resultados.\n",
        "\n",
        "---\n",
        "\n",
        "\n",
        "\n",
        "#### Preguntas para reflexionar:\n",
        "¿Por qué es importante considerar la difusión equimolar en este caso?\n",
        "\n",
        "¿Qué diferencia encuentras respecto al caso de difusión de un solo componente?\n",
        "\n",
        "¿Cómo cambiarían los resultados si el área o el espesor de la película variaran?\n",
        "\n",
        "¿Cómo aplicarías este análisis y estos cálculos en el diseño y operación de una columna de destilación industrial? Explica con tus palabras."
      ]
    }
  ],
  "metadata": {
    "colab": {
      "provenance": []
    },
    "kernelspec": {
      "display_name": "Python 3",
      "name": "python3"
    },
    "language_info": {
      "name": "python"
    }
  },
  "nbformat": 4,
  "nbformat_minor": 0
}
